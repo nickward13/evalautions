{
 "cells": [
  {
   "cell_type": "code",
   "execution_count": 2,
   "metadata": {},
   "outputs": [],
   "source": [
    "azure_ai_project = { \n",
    "    \"subscription_id\": \"2e0ec2a0-1280-41cb-a8b4-a48dcc8b213c\", \n",
    "    \"resource_group_name\": \"rg-nickwardai\", \n",
    "    \"project_name\": \"nickward-westus\" \n",
    "}"
   ]
  },
  {
   "cell_type": "code",
   "execution_count": 5,
   "metadata": {},
   "outputs": [],
   "source": [
    "import os\n",
    "\n",
    "AZURE_OPENAI_API_KEY = os.getenv(\"AZURE_OPENAI_API_KEY\")\n",
    "AZURE_OPENAI_ENDPOINT = os.getenv(\"AZURE_OPENAI_ENDPOINT\")\n",
    "AZURE_OPENAI_DEPLOYMENT = os.getenv(\"AZURE_OPENAI_DEPLOYMENT\")\n",
    "AZURE_OPENAI_VERSION = os.getenv(\"AZURE_OPENAI_VERSION\")\n",
    "\n",
    "env_var = {\n",
    "    \"gpt4o\": {\n",
    "        \"endpoint\": AZURE_OPENAI_ENDPOINT,\n",
    "        \"key\": AZURE_OPENAI_API_KEY\n",
    "    }\n",
    "}"
   ]
  },
  {
   "cell_type": "code",
   "execution_count": 6,
   "metadata": {},
   "outputs": [],
   "source": [
    "from promptflow.core import AzureOpenAIModelConfiguration\n",
    "configuration = AzureOpenAIModelConfiguration(\n",
    "    azure_endpoint=AZURE_OPENAI_ENDPOINT,\n",
    "    api_key=AZURE_OPENAI_API_KEY,\n",
    "    api_version=AZURE_OPENAI_VERSION,\n",
    "    azure_deployment=AZURE_OPENAI_DEPLOYMENT,\n",
    ")\n"
   ]
  },
  {
   "cell_type": "code",
   "execution_count": 7,
   "metadata": {},
   "outputs": [],
   "source": [
    "from promptflow.evals.evaluators import ContentSafetyEvaluator, RelevanceEvaluator, CoherenceEvaluator, GroundednessEvaluator, FluencyEvaluator, SimilarityEvaluator\n",
    "content_safety_evaluator = ContentSafetyEvaluator(project_scope=azure_ai_project)\n",
    "relevance_evaluator = RelevanceEvaluator(model_config=configuration)\n",
    "coherence_evaluator = CoherenceEvaluator(model_config=configuration)\n",
    "groundedness_evaluator = GroundednessEvaluator(model_config=configuration)\n",
    "fluency_evaluator = FluencyEvaluator(model_config=configuration)\n",
    "similarity_evaluator = SimilarityEvaluator(model_config=configuration)"
   ]
  },
  {
   "cell_type": "code",
   "execution_count": null,
   "metadata": {},
   "outputs": [],
   "source": [
    "from app_target import ModelEndpoints\n",
    "import pathlib\n",
    "import random\n",
    "from promptflow.evals.evaluate import evaluate\n",
    "models = [\"gpt4o\"]\n",
    "path = str(pathlib.Path(pathlib.Path.cwd())) + \"/data.jsonl\"\n",
    "for model in models:\n",
    "    randomNum = random.randint(1111, 9999)\n",
    "    results = evaluate(\n",
    "        azure_ai_project=azure_ai_project, \n",
    "        evaluation_name=\"Eval-Run-\"+str(randomNum)+\"-\"+model.title(), \n",
    "        data=path, \n",
    "        target=ModelEndpoints(env_var, model), \n",
    "        evaluators={ \n",
    "            \"content_safety\": content_safety_evaluator, \n",
    "            \"coherence\": coherence_evaluator, \n",
    "            \"relevance\": relevance_evaluator,\n",
    "            \"groundedness\": groundedness_evaluator,\n",
    "            \"fluency\": fluency_evaluator,\n",
    "            \"similarity\": similarity_evaluator,\n",
    "        }, \n",
    "        evaluator_config={ \n",
    "            \"content_safety\": { \n",
    "                \"question\": \"${data.question}\", \n",
    "                \"answer\": \"${target.answer}\"  \n",
    "            }, \n",
    "            \"coherence\": { \n",
    "                \"answer\": \"${target.answer}\", \n",
    "                \"question\": \"${data.question}\"  \n",
    "            }, \n",
    "            \"relevance\": { \n",
    "                \"answer\": \"${target.answer}\", \n",
    "                \"context\": \"${data.context}\", \n",
    "                \"question\": \"${data.question}\"  \n",
    "            }, \n",
    "            \"groundedness\": { \n",
    "                \"answer\": \"${target.answer}\", \n",
    "                \"context\": \"${data.context}\", \n",
    "                \"question\": \"${data.question}\"  \n",
    "            }, \n",
    "            \"fluency\": { \n",
    "                \"answer\": \"${target.answer}\", \n",
    "                \"context\": \"${data.context}\", \n",
    "                \"question\": \"${data.question}\"  \n",
    "            }, \n",
    "            \"similarity\": { \n",
    "                \"answer\": \"${target.answer}\", \n",
    "                \"context\": \"${data.context}\", \n",
    "                \"question\": \"${data.question}\"  \n",
    "            } \n",
    "        } \n",
    "    )"
   ]
  }
 ],
 "metadata": {
  "kernelspec": {
   "display_name": "venv",
   "language": "python",
   "name": "python3"
  },
  "language_info": {
   "codemirror_mode": {
    "name": "ipython",
    "version": 3
   },
   "file_extension": ".py",
   "mimetype": "text/x-python",
   "name": "python",
   "nbconvert_exporter": "python",
   "pygments_lexer": "ipython3",
   "version": "3.11.9"
  }
 },
 "nbformat": 4,
 "nbformat_minor": 2
}
